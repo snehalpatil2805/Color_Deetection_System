{
  "nbformat": 4,
  "nbformat_minor": 0,
  "metadata": {
    "colab": {
      "name": "Mini_project(Movie Recomendation System).ipynb",
      "provenance": [],
      "collapsed_sections": [],
      "authorship_tag": "ABX9TyNObn8HB15+R6Cf+ZpGzCTM",
      "include_colab_link": true
    },
    "kernelspec": {
      "name": "python3",
      "display_name": "Python 3"
    },
    "language_info": {
      "name": "python"
    }
  },
  "cells": [
    {
      "cell_type": "markdown",
      "metadata": {
        "id": "view-in-github",
        "colab_type": "text"
      },
      "source": [
        "<a href=\"https://colab.research.google.com/github/snehalpatil2805/Color_Deetection_System/blob/main/Mini_project(Movie_Recomendation_System).ipynb\" target=\"_parent\"><img src=\"https://colab.research.google.com/assets/colab-badge.svg\" alt=\"Open In Colab\"/></a>"
      ]
    },
    {
      "cell_type": "code",
      "execution_count": null,
      "metadata": {
        "id": "IiVKlxOmXnNO"
      },
      "outputs": [],
      "source": [
        "import pandas as pd\n",
        "import numpy as np\n",
        "from sklearn.feature_extraction.text import CountVectorizer\n",
        "from sklearn.metrics.pairwise import cosine_similarity"
      ]
    },
    {
      "cell_type": "code",
      "source": [
        "df = pd.read_csv(\"movie_dataset.csv\")\n"
      ],
      "metadata": {
        "id": "CJxObJcCXwT8"
      },
      "execution_count": null,
      "outputs": []
    },
    {
      "cell_type": "code",
      "source": [
        "features = ['keywords', 'cast', 'genres', 'director']\n"
      ],
      "metadata": {
        "id": "K2WbXHzf7sEP"
      },
      "execution_count": null,
      "outputs": []
    },
    {
      "cell_type": "code",
      "source": [
        "def combine_features(row):\n",
        "    return row['keywords'] + \" \" + row['cast'] + \" \" + row[\"genres\"] + \" \" + row[\"director\"]\n"
      ],
      "metadata": {
        "id": "fQFe6xGDc6n_"
      },
      "execution_count": null,
      "outputs": []
    },
    {
      "cell_type": "code",
      "source": [
        "for feature in features:\n",
        "    df[feature] = df[feature].fillna('')\n",
        "df[\"combined_features\"] = df.apply(combine_features, axis=1)\n",
        "cv = CountVectorizer()\n",
        "count_matrix = cv.fit_transform(df[\"combined_features\"])\n",
        "cosine_sim = cosine_similarity(count_matrix)\n",
        "\n"
      ],
      "metadata": {
        "id": "Gy-H6CJ177ZQ"
      },
      "execution_count": null,
      "outputs": []
    },
    {
      "cell_type": "code",
      "source": [
        "def get_title_from_index(index):\n",
        "    return df[df.index == index][\"title\"].values[0]\n"
      ],
      "metadata": {
        "id": "PgP-qxFY787S"
      },
      "execution_count": null,
      "outputs": []
    },
    {
      "cell_type": "code",
      "source": [
        "def get_index_from_title(title):\n",
        "    return df[df.title == title][\"index\"].values[0]\n"
      ],
      "metadata": {
        "id": "9oeDoSqQ8DUU"
      },
      "execution_count": null,
      "outputs": []
    },
    {
      "cell_type": "code",
      "source": [
        "movie_user_likes = \"Interstellar\"\n",
        "movie_index = get_index_from_title(movie_user_likes)\n",
        "similar_movies = list(enumerate(cosine_sim[movie_index]))\n",
        "\n",
        "sorted_similar_movies = sorted(similar_movies, key=lambda x: x[1], reverse=True)[1:]\n",
        "\n",
        "i = 0"
      ],
      "metadata": {
        "id": "zEFGyWF08Fnk"
      },
      "execution_count": null,
      "outputs": []
    },
    {
      "cell_type": "code",
      "source": [
        "print(\"Top 5 similar movies to \" + movie_user_likes + \" are:\\n\")\n",
        "for element in sorted_similar_movies:\n",
        "    print(get_title_from_index(element[0]))\n",
        "    i = i + 1\n",
        "    if i >= 5:\n",
        "        break\n"
      ],
      "metadata": {
        "colab": {
          "base_uri": "https://localhost:8080/"
        },
        "id": "z0i2LeP98Nup",
        "outputId": "97e341c2-47e5-4ab0-c569-b911ab35122f"
      },
      "execution_count": null,
      "outputs": [
        {
          "output_type": "stream",
          "name": "stdout",
          "text": [
            "Top 5 similar movies to Interstellar are:\n",
            "\n",
            "The Matrix Revolutions\n",
            "Midnight Special\n",
            "The Matrix Reloaded\n",
            "The Martian\n",
            "The Terminator\n"
          ]
        }
      ]
    }
  ]
}