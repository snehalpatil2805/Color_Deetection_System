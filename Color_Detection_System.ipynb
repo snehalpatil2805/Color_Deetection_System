{
 "cells": [
  {
   "cell_type": "code",
   "execution_count": 1,
   "id": "3e40be4c",
   "metadata": {},
   "outputs": [
    {
     "name": "stdout",
     "output_type": "stream",
     "text": [
      "Requirement already satisfied: opencv-python in c:\\users\\sneha\\anaconda3\\lib\\site-packages (4.5.5.64)\n",
      "Requirement already satisfied: numpy>=1.14.5 in c:\\users\\sneha\\anaconda3\\lib\\site-packages (from opencv-python) (1.20.1)\n",
      "Note: you may need to restart the kernel to use updated packages.\n"
     ]
    }
   ],
   "source": [
    "pip install opencv-python\n"
   ]
  },
  {
   "cell_type": "code",
   "execution_count": 2,
   "id": "b1750be5",
   "metadata": {},
   "outputs": [],
   "source": [
    "import pandas as pd\n",
    "import cv2"
   ]
  },
  {
   "cell_type": "code",
   "execution_count": 3,
   "id": "424166ab",
   "metadata": {},
   "outputs": [
    {
     "name": "stdout",
     "output_type": "stream",
     "text": [
      "[[[ 23  20  22]\n",
      "  [ 27  24  26]\n",
      "  [ 22  20  20]\n",
      "  ...\n",
      "  [193 150 117]\n",
      "  [190 150 115]\n",
      "  [187 147 112]]\n",
      "\n",
      " [[ 31  26  28]\n",
      "  [ 30  28  28]\n",
      "  [ 26  21  22]\n",
      "  ...\n",
      "  [188 145 112]\n",
      "  [189 147 112]\n",
      "  [188 148 113]]\n",
      "\n",
      " [[ 28  22  23]\n",
      "  [ 27  22  23]\n",
      "  [ 26  20  21]\n",
      "  ...\n",
      "  [189 146 113]\n",
      "  [191 149 114]\n",
      "  [193 151 116]]\n",
      "\n",
      " ...\n",
      "\n",
      " [[ 60  40  29]\n",
      "  [ 67  47  36]\n",
      "  [ 56  36  25]\n",
      "  ...\n",
      "  [ 29  27  27]\n",
      "  [ 29  27  27]\n",
      "  [ 33  31  31]]\n",
      "\n",
      " [[ 55  32  24]\n",
      "  [ 58  35  27]\n",
      "  [ 54  33  25]\n",
      "  ...\n",
      "  [ 27  25  24]\n",
      "  [ 29  27  26]\n",
      "  [ 29  27  26]]\n",
      "\n",
      " [[ 59  36  28]\n",
      "  [ 61  38  30]\n",
      "  [ 56  35  27]\n",
      "  ...\n",
      "  [ 27  25  24]\n",
      "  [ 29  27  26]\n",
      "  [ 29  27  26]]]\n"
     ]
    }
   ],
   "source": [
    "image = cv2.imread('C:\\\\Users\\\\sneha\\\\Downloads\\\\image4.jpg')\n",
    "print(image)"
   ]
  },
  {
   "cell_type": "code",
   "execution_count": 4,
   "id": "8f93ae39",
   "metadata": {},
   "outputs": [],
   "source": [
    "mouse_click = False\n",
    "r = g = b = xpos = 0"
   ]
  },
  {
   "cell_type": "code",
   "execution_count": 5,
   "id": "fd74f717",
   "metadata": {},
   "outputs": [
    {
     "data": {
      "text/html": [
       "<div>\n",
       "<style scoped>\n",
       "    .dataframe tbody tr th:only-of-type {\n",
       "        vertical-align: middle;\n",
       "    }\n",
       "\n",
       "    .dataframe tbody tr th {\n",
       "        vertical-align: top;\n",
       "    }\n",
       "\n",
       "    .dataframe thead th {\n",
       "        text-align: right;\n",
       "    }\n",
       "</style>\n",
       "<table border=\"1\" class=\"dataframe\">\n",
       "  <thead>\n",
       "    <tr style=\"text-align: right;\">\n",
       "      <th></th>\n",
       "      <th>color</th>\n",
       "      <th>color_name</th>\n",
       "      <th>hex</th>\n",
       "      <th>R</th>\n",
       "      <th>G</th>\n",
       "      <th>B</th>\n",
       "    </tr>\n",
       "  </thead>\n",
       "  <tbody>\n",
       "    <tr>\n",
       "      <th>0</th>\n",
       "      <td>air_force_blue_raf</td>\n",
       "      <td>Air Force Blue (Raf)</td>\n",
       "      <td>#5d8aa8</td>\n",
       "      <td>93</td>\n",
       "      <td>138</td>\n",
       "      <td>168</td>\n",
       "    </tr>\n",
       "    <tr>\n",
       "      <th>1</th>\n",
       "      <td>air_force_blue_usaf</td>\n",
       "      <td>Air Force Blue (Usaf)</td>\n",
       "      <td>#00308f</td>\n",
       "      <td>0</td>\n",
       "      <td>48</td>\n",
       "      <td>143</td>\n",
       "    </tr>\n",
       "    <tr>\n",
       "      <th>2</th>\n",
       "      <td>air_superiority_blue</td>\n",
       "      <td>Air Superiority Blue</td>\n",
       "      <td>#72a0c1</td>\n",
       "      <td>114</td>\n",
       "      <td>160</td>\n",
       "      <td>193</td>\n",
       "    </tr>\n",
       "    <tr>\n",
       "      <th>3</th>\n",
       "      <td>alabama_crimson</td>\n",
       "      <td>Alabama Crimson</td>\n",
       "      <td>#a32638</td>\n",
       "      <td>163</td>\n",
       "      <td>38</td>\n",
       "      <td>56</td>\n",
       "    </tr>\n",
       "    <tr>\n",
       "      <th>4</th>\n",
       "      <td>alice_blue</td>\n",
       "      <td>Alice Blue</td>\n",
       "      <td>#f0f8ff</td>\n",
       "      <td>240</td>\n",
       "      <td>248</td>\n",
       "      <td>255</td>\n",
       "    </tr>\n",
       "  </tbody>\n",
       "</table>\n",
       "</div>"
      ],
      "text/plain": [
       "                  color             color_name      hex    R    G    B\n",
       "0    air_force_blue_raf   Air Force Blue (Raf)  #5d8aa8   93  138  168\n",
       "1   air_force_blue_usaf  Air Force Blue (Usaf)  #00308f    0   48  143\n",
       "2  air_superiority_blue   Air Superiority Blue  #72a0c1  114  160  193\n",
       "3       alabama_crimson        Alabama Crimson  #a32638  163   38   56\n",
       "4            alice_blue             Alice Blue  #f0f8ff  240  248  255"
      ]
     },
     "execution_count": 5,
     "metadata": {},
     "output_type": "execute_result"
    }
   ],
   "source": [
    "index = ['color', 'color_name', 'hex', 'R', 'G', 'B']\n",
    "data = pd.read_csv('Downloads/colors.csv', names = index, header = None)\n",
    "data.head()"
   ]
  },
  {
   "cell_type": "code",
   "execution_count": 6,
   "id": "533b07b1",
   "metadata": {},
   "outputs": [
    {
     "data": {
      "text/plain": [
       "(865, 6)"
      ]
     },
     "execution_count": 6,
     "metadata": {},
     "output_type": "execute_result"
    }
   ],
   "source": [
    "data.shape"
   ]
  },
  {
   "cell_type": "code",
   "execution_count": 7,
   "id": "c02bc788",
   "metadata": {},
   "outputs": [],
   "source": [
    "text = \"Right Double Click to display corresponding image coordinates in dataset\"\n",
    "coordinates = (300,600)\n",
    "font = cv2.FONT_ITALIC\n",
    "fontScale = 0.5\n",
    "color = (255,255,255)\n",
    "thickness = 1\n",
    "image = cv2.putText(image, text, coordinates, font, fontScale, color, thickness, cv2.LINE_AA)"
   ]
  },
  {
   "cell_type": "code",
   "execution_count": 8,
   "id": "fdb8df6b",
   "metadata": {},
   "outputs": [],
   "source": [
    "def getColorName(R,G,B):\n",
    "    minimum = 10000\n",
    "    for i in range(len(data)):\n",
    "        d = abs(R- int(data.loc[i,\"R\"])) + abs(G- int(data.loc[i,\"G\"])) + abs(B -int(data.loc[i,\"B\"]))\n",
    "        if(d<=minimum):\n",
    "            minimum = d\n",
    "            cname = data.loc[i,\"color_name\"]\n",
    "    return cname"
   ]
  },
  {
   "cell_type": "code",
   "execution_count": 9,
   "id": "1dc89809",
   "metadata": {},
   "outputs": [],
   "source": [
    "def draw_function(event, x, y, flags, param):\n",
    "    if event == cv2.EVENT_LBUTTONDBLCLK:\n",
    "        global b,g,r,xpos,ypos, mouse_click\n",
    "        mouse_click = True\n",
    "        xpos = x\n",
    "        ypos = y\n",
    "        b,g,r = image[y,x]\n",
    "        b = int(b)\n",
    "        g = int(g)\n",
    "        r = int(r)\n",
    "    elif event==cv2.EVENT_RBUTTONDBLCLK:\n",
    "        font = cv2.FONT_HERSHEY_SIMPLEX\n",
    "        t = getColorName(r,g,b)\n",
    "        red.blue.green=int(data.loc[data['color_name']==t]['R']),int(data.loc[data['color_name']==t]['B']),int(data.loc[data['color_name']==t]['G'])\n",
    "        cv2.putText(image, str(red) + ',' +str(blue),\n",
    "                str(green) + ',' + str(blue),\n",
    "                (x,y), 1, 1,\n",
    "                (255, 255, 255), 2)"
   ]
  },
  {
   "cell_type": "code",
   "execution_count": 10,
   "id": "ef127f32",
   "metadata": {},
   "outputs": [],
   "source": [
    "cv2.namedWindow('Image for Color Detection-Left Button Mouse Double Click')\n",
    "cv2.setMouseCallback('Image for Color Detection-Left Button Mouse Double Click',draw_function)"
   ]
  },
  {
   "cell_type": "code",
   "execution_count": 11,
   "id": "f2adc9a9",
   "metadata": {},
   "outputs": [],
   "source": [
    "while(1):\n",
    "    \n",
    "    cv2.imshow('Image for Color Detection-Left Button Mouse Double Click',image)\n",
    "    if (mouse_click):\n",
    "        \n",
    "        cv2.rectangle(image,(20,20),(750,60),(b,g,r), -1)\n",
    "        text = getColorName(r,g,b) + 'R='+ str(r) + 'G='+ str(g) + 'B='+ str(b)\n",
    "        cv2.putText(image, text,(50,50),2,0.8,(255,255,255),2,cv2.LINE_AA)\n",
    "        if(r+g+b>=600):\n",
    "            cv2.putText(image, text,(50,50),2,0.8,(0,0,0),2,cv2.LINE_AA)\n",
    "            \n",
    "        mouse_click = False\n",
    "        \n",
    "    if cv2.waitKey(20) & 0xFF == 27:\n",
    "        break\n",
    "        \n",
    "cv2.destroyAllWindows()\n",
    "    "
   ]
  },
  {
   "cell_type": "code",
   "execution_count": null,
   "id": "628c872f",
   "metadata": {},
   "outputs": [],
   "source": []
  },
  {
   "cell_type": "code",
   "execution_count": null,
   "id": "1c5257fb",
   "metadata": {},
   "outputs": [],
   "source": []
  },
  {
   "cell_type": "code",
   "execution_count": null,
   "id": "f1fb22ce",
   "metadata": {},
   "outputs": [],
   "source": []
  },
  {
   "cell_type": "code",
   "execution_count": null,
   "id": "d7280398",
   "metadata": {},
   "outputs": [],
   "source": []
  },
  {
   "cell_type": "code",
   "execution_count": null,
   "id": "938ae32c",
   "metadata": {},
   "outputs": [],
   "source": []
  },
  {
   "cell_type": "code",
   "execution_count": null,
   "id": "fb6f5baa",
   "metadata": {},
   "outputs": [],
   "source": []
  },
  {
   "cell_type": "code",
   "execution_count": null,
   "id": "86dcd079",
   "metadata": {},
   "outputs": [],
   "source": []
  }
 ],
 "metadata": {
  "kernelspec": {
   "display_name": "Python 3",
   "language": "python",
   "name": "python3"
  },
  "language_info": {
   "codemirror_mode": {
    "name": "ipython",
    "version": 3
   },
   "file_extension": ".py",
   "mimetype": "text/x-python",
   "name": "python",
   "nbconvert_exporter": "python",
   "pygments_lexer": "ipython3",
   "version": "3.8.8"
  }
 },
 "nbformat": 4,
 "nbformat_minor": 5
}
